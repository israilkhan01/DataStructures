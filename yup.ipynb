{
 "cells": [
  {
   "cell_type": "code",
   "execution_count": 10,
   "metadata": {},
   "outputs": [
    {
     "name": "stdout",
     "output_type": "stream",
     "text": [
      "1 2 3 4 5 -1\n",
      "1 2 \n",
      "3 4 5 \n"
     ]
    }
   ],
   "source": [
    "class Node:\n",
    "    def __init__(self, data):\n",
    "        self.data = data\n",
    "        self.next = None\n",
    "def merge(head1,head2):\n",
    "    if head1.data>head2.data:\n",
    "        head=head2\n",
    "        tail=head2\n",
    "        head2=head2.next\n",
    "    else:\n",
    "        head=head1\n",
    "        tail=head1\n",
    "        head1=head1.next\n",
    "    while head1 and head2:\n",
    "        if head1.data<head2.data:\n",
    "            tail.next=head1\n",
    "            tail=tail.next\n",
    "            head1=head1.next\n",
    "        else:\n",
    "            tail.next=head2\n",
    "            tail=tail.next\n",
    "            head2=head2.next\n",
    "    while head1:\n",
    "        tail.next=head1\n",
    "        head1=head1.next\n",
    "        tail=tail.next\n",
    "    while head2:\n",
    "        tail.next=head2\n",
    "        tail=tail.next\n",
    "        head2=head2.next\n",
    "    tail.next=None\n",
    "    return head\n",
    "def ll(arr):\n",
    "    if len(arr)==0:\n",
    "        return None\n",
    "    head = Node(arr[0])\n",
    "    last = head\n",
    "    for data in arr[1:]:\n",
    "        last.next = Node(data)\n",
    "        last = last.next\n",
    "    return head\n",
    "def divide(head):\n",
    "    l=count1(head)\n",
    "    k=0\n",
    "    m=(l)//2\n",
    "    s1=head\n",
    "    t1=head\n",
    "    while k<m-1:\n",
    "        t1=t1.next\n",
    "        k=k+1\n",
    "    s2=t1.next\n",
    "    t2=s2\n",
    "    while t2:\n",
    "        t2=t2.next\n",
    "    t1.next=None\n",
    "    return s1,s2\n",
    "def count1(head):\n",
    "    count=0\n",
    "    while head:\n",
    "        count=count+1\n",
    "        head=head.next\n",
    "    return count\n",
    "def printll(head):\n",
    "    while head:\n",
    "        print(head.data, end=' ')\n",
    "        head = head.next\n",
    "    print()\n",
    "arr=list(int(i) for i in input().strip().split(' '))\n",
    "l = ll(arr[:-1])\n",
    "s1,s2=divide(l)\n",
    "printll(s1)\n",
    "printll(s2)"
   ]
  },
  {
   "cell_type": "code",
   "execution_count": 15,
   "metadata": {},
   "outputs": [
    {
     "name": "stdout",
     "output_type": "stream",
     "text": [
      "9 6 6 3 4 1 9 8 77 1 1 -1\n",
      "1 1 1 3 4 6 6 8 9 9 77 \n"
     ]
    }
   ],
   "source": [
    "class Node:\n",
    "    def __init__(self, data):\n",
    "        self.data = data\n",
    "        self.next = None\n",
    "def Merge(head1,head2):\n",
    "    if head1.data>head2.data:\n",
    "        head=head2\n",
    "        tail=head2\n",
    "        head2=head2.next\n",
    "    else:\n",
    "        head=head1\n",
    "        tail=head1\n",
    "        head1=head1.next\n",
    "    while head1 and head2:\n",
    "        if head1.data<head2.data:\n",
    "            tail.next=head1\n",
    "            tail=tail.next\n",
    "            head1=head1.next\n",
    "        else:\n",
    "            tail.next=head2\n",
    "            tail=tail.next\n",
    "            head2=head2.next\n",
    "    while head1:\n",
    "        tail.next=head1\n",
    "        head1=head1.next\n",
    "        tail=tail.next\n",
    "    while head2:\n",
    "        tail.next=head2\n",
    "        tail=tail.next\n",
    "        head2=head2.next\n",
    "    tail.next=None\n",
    "    return head\n",
    "def mergeSort(head):\n",
    "    s1,s2=divide(head)\n",
    "    if s1 is None and s2.next is None:\n",
    "        return s2\n",
    "    elif s2 is None and s1.next is None:\n",
    "        return s1\n",
    "    elif s2.next is None and s1.next is None:\n",
    "        return Merge(s1,s2)\n",
    "    a=mergeSort(s1)\n",
    "    b=mergeSort(s2)\n",
    "    return Merge(a,b)\n",
    "def divide(head):\n",
    "    l=count1(head)\n",
    "    k=0\n",
    "    m=(l)//2\n",
    "    s1=head\n",
    "    t1=head\n",
    "    while k<m-1:\n",
    "        t1=t1.next\n",
    "        k=k+1\n",
    "    s2=t1.next\n",
    "    t2=s2\n",
    "    while t2:\n",
    "        t2=t2.next\n",
    "    t1.next=None\n",
    "    return s1,s2\n",
    "def ll(arr):\n",
    "    if len(arr)==0:\n",
    "        return None\n",
    "    head = Node(arr[0])\n",
    "    last = head\n",
    "    for data in arr[1:]:\n",
    "        last.next = Node(data)\n",
    "        last = last.next\n",
    "    return head\n",
    "\n",
    "def printll(head):\n",
    "    while head:\n",
    "        print(head.data, end=' ')\n",
    "        head = head.next\n",
    "    print()\n",
    "\n",
    "# Main\n",
    "# Read the link list elements including -1\n",
    "arr=list(int(i) for i in input().strip().split(' '))\n",
    "# Create a Linked list after removing -1 from list\n",
    "l = ll(arr[:-1])\n",
    "l = mergeSort(l)\n",
    "printll(l)\n"
   ]
  },
  {
   "cell_type": "code",
   "execution_count": 10,
   "metadata": {},
   "outputs": [
    {
     "name": "stdout",
     "output_type": "stream",
     "text": [
      "[1, 2, 3, 4, 1, 2, 3, 4]\n",
      "1\n"
     ]
    }
   ],
   "source": [
    "l=[1,2,3,4]\n",
    "print(l+l)\n",
    "print(l[-4])"
   ]
  },
  {
   "cell_type": "code",
   "execution_count": 6,
   "metadata": {},
   "outputs": [
    {
     "data": {
      "text/plain": [
       "True"
      ]
     },
     "execution_count": 6,
     "metadata": {},
     "output_type": "execute_result"
    }
   ],
   "source": [
    "d = {\"john\":40, \"peter\":45}\n",
    "\"john\" in d"
   ]
  },
  {
   "cell_type": "code",
   "execution_count": 5,
   "metadata": {},
   "outputs": [
    {
     "name": "stdout",
     "output_type": "stream",
     "text": [
      "abc\n"
     ]
    }
   ],
   "source": [
    "aList = [123, 'xyz', 'zara', 'abc']\n",
    "print(aList.pop())"
   ]
  },
  {
   "cell_type": "code",
   "execution_count": 8,
   "metadata": {},
   "outputs": [
    {
     "data": {
      "text/plain": [
       "True"
      ]
     },
     "execution_count": 8,
     "metadata": {},
     "output_type": "execute_result"
    }
   ],
   "source": [
    "d1 = {\"john\":40, \"peter\":45}\n",
    "d2 = {\"john\":40, \"peter\":45}\n",
    "d1 == d2"
   ]
  },
  {
   "cell_type": "code",
   "execution_count": 11,
   "metadata": {},
   "outputs": [
    {
     "name": "stdout",
     "output_type": "stream",
     "text": [
      "my name is ISrail\n",
      " is name y \n"
     ]
    }
   ],
   "source": [
    "def RSWW(s):\n",
    "    l=len(s)\n",
    "    sx=\"\"\n",
    "    count=0\n",
    "    for i in range (-1,-l-1,-1):\n",
    "        if s[i]==\" \" or i==-l:\n",
    "            sx=sx+s[i+1:i+count+1]+\" \"\n",
    "            count=0 \n",
    "        else:\n",
    "            count+=1\n",
    "    print(sx)\n",
    "string=input()\n",
    "RSWW(string)"
   ]
  },
  {
   "cell_type": "code",
   "execution_count": 22,
   "metadata": {},
   "outputs": [
    {
     "name": "stdout",
     "output_type": "stream",
     "text": [
      "bo\n"
     ]
    }
   ],
   "source": [
    "x=\"israil is a good boy\"\n",
    "print(x[-3:-1])"
   ]
  },
  {
   "cell_type": "code",
   "execution_count": 6,
   "metadata": {},
   "outputs": [
    {
     "name": "stdout",
     "output_type": "stream",
     "text": [
      "4\n",
      "{'c': 2, 'd': 3}\n"
     ]
    }
   ],
   "source": [
    "s=\"abcd\"\n",
    "dic={\"a\": 0,\"b\":1,\"c\":2,\"d\":3}\n",
    "j=0\n",
    "l=len(dic)\n",
    "print(l)\n",
    "while j<l:\n",
    "    if dic[s[j]]<=1:\n",
    "        del dic[s[j]]\n",
    "    j+=1\n",
    "print(dic)"
   ]
  },
  {
   "cell_type": "code",
   "execution_count": 9,
   "metadata": {},
   "outputs": [
    {
     "name": "stdout",
     "output_type": "stream",
     "text": [
      "abcdbaceb\n",
      "initial {'a': 0, 'b': 1, 'c': 2, 'd': 3}\n",
      "final {'c': 2, 'd': 3, 'b': 4}\n",
      "initial {'c': 2, 'd': 3, 'b': 4, 'a': 5}\n",
      "final {'d': 3, 'b': 4, 'a': 5, 'c': 6}\n",
      "initial {'d': 3, 'b': 4, 'a': 5, 'c': 6, 'e': 7}\n",
      "final {'a': 5, 'c': 6, 'e': 7, 'b': 8}\n",
      "dbace\n"
     ]
    }
   ],
   "source": [
    "S=input()\n",
    "dic={}\n",
    "l=len(S)\n",
    "i=0\n",
    "maxstring=\"\"\n",
    "samplestring=\"\"\n",
    "while i<l:\n",
    "    if dic.get(S[i])is not None:\n",
    "        s=dic[S[i]]\n",
    "        j=0\n",
    "        if len(samplestring)>len(maxstring):\n",
    "            maxstring=samplestring\n",
    "        samplestring=S[s+1:i+1]\n",
    "        # flag=True\n",
    "        print(\"initial\",dic)\n",
    "        while j<=s:\n",
    "            if dic.get(S[j],s+1)<=s:\n",
    "                del dic[S[j]]\n",
    "            j+=1\n",
    "        dic[S[i]]=i\n",
    "        print(\"final\",dic)\n",
    "        # i+=1\n",
    "    else:\n",
    "        dic[S[i]]=i\n",
    "        samplestring=samplestring+S[i]\n",
    "    i+=1\n",
    "print(maxstring)"
   ]
  },
  {
   "cell_type": "code",
   "execution_count": null,
   "metadata": {},
   "outputs": [],
   "source": []
  }
 ],
 "metadata": {
  "kernelspec": {
   "display_name": "Python 3",
   "language": "python",
   "name": "python3"
  },
  "language_info": {
   "codemirror_mode": {
    "name": "ipython",
    "version": 3
   },
   "file_extension": ".py",
   "mimetype": "text/x-python",
   "name": "python",
   "nbconvert_exporter": "python",
   "pygments_lexer": "ipython3",
   "version": "3.7.3"
  }
 },
 "nbformat": 4,
 "nbformat_minor": 2
}
