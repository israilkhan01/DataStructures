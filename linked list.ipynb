{
 "cells": [
  {
   "cell_type": "code",
   "execution_count": 12,
   "metadata": {},
   "outputs": [
    {
     "name": "stdout",
     "output_type": "stream",
     "text": [
      "None\n",
      "12\n",
      "15\n",
      "12\n",
      "<__main__.Node object at 0x000001764D5B8748>\n",
      "<__main__.Node object at 0x000001764D5B87F0>\n",
      "<__main__.Node object at 0x000001764D5B87F0>\n"
     ]
    }
   ],
   "source": [
    "class Node:\n",
    "    def __init__(self,data):\n",
    "        self.data=data\n",
    "        self.next=None\n",
    "a=Node(15)\n",
    "b=Node(12)\n",
    "c=a\n",
    "print(c.next)\n",
    "a.next=b\n",
    "print(b.data)\n",
    "print(a.data)\n",
    "print(a.next.data)\n",
    "print(a)\n",
    "print(b)\n",
    "print(a.next)"
   ]
  },
  {
   "cell_type": "code",
   "execution_count": 4,
   "metadata": {},
   "outputs": [
    {
     "name": "stdout",
     "output_type": "stream",
     "text": [
      "20 10 "
     ]
    }
   ],
   "source": [
    "class Node:\n",
    "    def __init__(self, data):\n",
    "        self.data = data\n",
    "        self.next = None\n",
    "def printLL(head):\n",
    "    while head is not None:\n",
    "        print(head.data,end=\" \")\n",
    "        head = head.next\n",
    "\n",
    "\n",
    "\n",
    "node1 = Node(10)\n",
    "node2 = Node(20)\n",
    "node2.next = node1\n",
    "printLL(node2)\n"
   ]
  },
  {
   "cell_type": "code",
   "execution_count": 5,
   "metadata": {},
   "outputs": [
    {
     "name": "stdout",
     "output_type": "stream",
     "text": [
      "20 30 40 "
     ]
    }
   ],
   "source": [
    "class Node:\n",
    "    def __init__(self, data):\n",
    "        self.data = data\n",
    "        self.next = None\n",
    "def printLL(head):\n",
    "    while head is not None:\n",
    "        print(head.data,end=\" \")\n",
    "        head = head.next\n",
    "\n",
    "\n",
    "\n",
    "node1 = Node(10)\n",
    "node2 = Node(20)\n",
    "node3 = Node(30)\n",
    "node4 = Node(40)\n",
    "node1.next = node2\n",
    "node2.next = node3\n",
    "node3.next = node4\n",
    "printLL(node2)\n"
   ]
  },
  {
   "cell_type": "code",
   "execution_count": 1,
   "metadata": {},
   "outputs": [
    {
     "name": "stdout",
     "output_type": "stream",
     "text": [
      "1 -> 2 -> 3 -> 4 -> 5 -> 6 -> 7 -> 8 -> 9 -> 10 -> 11 -> 12 -> 13 -> 14 -> 15 -> 16 -> 17 -> 18 -> 19 -> 20 -> 21 -> 22 -> 22 -> 26 -> 25 -> 25 -> 252 -> 555 -> None\n"
     ]
    }
   ],
   "source": [
    "class Node:\n",
    "    def __init__(self,data):\n",
    "        self.data=data\n",
    "        self.next=None\n",
    "def printll(head):\n",
    "        while head is not None:\n",
    "            print(head.data,\"->\",end=\" \")\n",
    "            head=head.next\n",
    "        print(None)\n",
    "    \n",
    "def INPUT():\n",
    "    li=[1,2,3,4,5,6,7,8,9,10,11,12,13,14,15,16,17,18,19,20,21,22,22,26,25,25,252,555,-1]\n",
    "    head=None\n",
    "    for currdata in li:\n",
    "        if currdata==-1:\n",
    "            break\n",
    "        newNode=Node(currdata)\n",
    "        if head is None:\n",
    "            head=newNode\n",
    "            \n",
    "        else:\n",
    "            curr=head\n",
    "            while curr.next is not None:\n",
    "                curr=curr.next\n",
    "            curr.next=newNode\n",
    "    return head\n",
    "head=INPUT()\n",
    "printll(head)\n",
    "        "
   ]
  },
  {
   "cell_type": "code",
   "execution_count": null,
   "metadata": {},
   "outputs": [],
   "source": [
    "class Node:\n",
    "    def __init__(self, data):\n",
    "        self.data = data\n",
    "        self.next = None\n",
    "\n",
    "def printLL(head):\n",
    "    while head is not None:\n",
    "        print(head.data,end=\" \")\n",
    "        head = head.next\n",
    "\n",
    "def increment(head):\n",
    "    temp = head\n",
    "    while temp is not None:\n",
    "        temp.data +=1\n",
    "        temp = temp.next\n",
    "\n",
    "\n",
    "\n",
    "node1 = Node(10)\n",
    "node2 = Node(20)\n",
    "node1.next = node2\n",
    "increment(node1)\n",
    "printLL(node1)\n"
   ]
  },
  {
   "cell_type": "code",
   "execution_count": null,
   "metadata": {},
   "outputs": [],
   "source": [
    "class Node:\n",
    "    def __init__(self, data):\n",
    "        self.data = data\n",
    "        self.next = None\n",
    "\n",
    "def length(head):\n",
    "    count=0\n",
    "    while head.next is not None:\n",
    "        count=count+1\n",
    "        head=head.next\n",
    "    return count\n",
    "\n",
    "def ll(arr):\n",
    "    if len(arr)==0:\n",
    "        return None\n",
    "    head = Node(arr[0])\n",
    "    last = head\n",
    "    for data in arr[1:]:\n",
    "        last.next = Node(data)\n",
    "        last = last.next\n",
    "    return head\n",
    "arr=list(int(i) for i in input().strip().split(' '))\n",
    "l = ll(arr[:-1])\n",
    "len=length(l)\n",
    "print(len)\n"
   ]
  },
  {
   "cell_type": "code",
   "execution_count": 4,
   "metadata": {},
   "outputs": [
    {
     "name": "stdout",
     "output_type": "stream",
     "text": [
      "1 2 3 4 5 6 -1\n",
      "1 -> 2 -> 3 -> 4 -> 5 -> 6 -> None\n",
      "2\n",
      "11\n",
      "1 -> 2 -> 11 -> 3 -> 4 -> 5 -> 6 -> None\n"
     ]
    }
   ],
   "source": [
    "class Node:\n",
    "    def __init__(self,data):\n",
    "        self.data=data\n",
    "        self.next=None\n",
    "def inp():\n",
    "    li=[int(x) for x in input().split()]\n",
    "    head=None\n",
    "    tail=None\n",
    "    for cu in li:\n",
    "        if cu==-1:\n",
    "            break\n",
    "        newNode=Node(cu)\n",
    "        if  head is None:\n",
    "            head=newNode\n",
    "            tail=newNode\n",
    "        else:\n",
    "            tail.next=newNode\n",
    "            tail=newNode\n",
    "    return head\n",
    "def printll(head):\n",
    "    while head is not None:\n",
    "        print(head.data,\"->\",end=\" \")\n",
    "        head=head.next\n",
    "    print(None)\n",
    "def insert(head,i,num):\n",
    "    x=0\n",
    "    while x<i-1 and head.next is not None:\n",
    "        x=x+1\n",
    "        head=head.next\n",
    "    tail=head.next\n",
    "    new_num=Node(num)\n",
    "    head.next=new_num\n",
    "    head=new_num\n",
    "    head.next=tail\n",
    "\n",
    "        \n",
    "head=inp()\n",
    "printll(head)\n",
    "i=int(input())\n",
    "num=int(input())\n",
    "insert(head,i,num)\n",
    "printll(head)"
   ]
  },
  {
   "cell_type": "code",
   "execution_count": 25,
   "metadata": {},
   "outputs": [
    {
     "name": "stdout",
     "output_type": "stream",
     "text": [
      "1 2 3 4 5 6 -1\n",
      "7\n",
      "\n"
     ]
    }
   ],
   "source": [
    "class Node:\n",
    "    def __init__(self, data):\n",
    "        self.data = data\n",
    "        self.next = None\n",
    "\n",
    "def delete(head, i):\n",
    "    count=1\n",
    "    pre=head\n",
    "    if i>0 and i<count1(head):\n",
    "        while count<i:\n",
    "            count=count+1\n",
    "            pre=pre.next\n",
    "        post=pre\n",
    "        post=pre.next\n",
    "        pre.next=post.next\n",
    "    elif i==0:\n",
    "        return head.next\n",
    "    else:\n",
    "        return \n",
    "    return head\n",
    "def count1(head):\n",
    "    count=0\n",
    "    while head is not None:\n",
    "        count=count+1\n",
    "        head=head.next\n",
    "    return count\n",
    "def ll(arr):\n",
    "    if len(arr)==0:\n",
    "        return None\n",
    "    head = Node(arr[0])\n",
    "    last = head\n",
    "    for data in arr[1:]:\n",
    "        last.next = Node(data)\n",
    "        last = last.next\n",
    "    return head\n",
    "\n",
    "def printll(head):\n",
    "    while head:\n",
    "        print(head.data, end=' ')\n",
    "        head = head.next\n",
    "    print()\n",
    "\n",
    "# Main\n",
    "# Read the link list elements including -1\n",
    "arr=list(int(i) for i in input().strip().split(' '))\n",
    "l = ll(arr[:-1])\n",
    "i=int(input())\n",
    "head=delete(l, i)\n",
    "printll(head)\n"
   ]
  },
  {
   "cell_type": "code",
   "execution_count": 31,
   "metadata": {},
   "outputs": [
    {
     "name": "stdout",
     "output_type": "stream",
     "text": [
      "1 2 3 4 5 6 7 9 8 7 8 8 8 7 7 8 98 6 878 84 848 5 45\n",
      "1 -> 2 -> 3 -> 4 -> 5 -> 6 -> 7 -> 9 -> 8 -> 7 -> 8 -> 8 -> 8 -> 7 -> 7 -> 8 -> 98 -> 6 -> 878 -> 84 -> 848 -> 5 -> 45 -> None\n",
      "2\n",
      "101\n",
      "1 -> 2 -> 101 -> 3 -> 4 -> 5 -> 6 -> 7 -> 9 -> 8 -> 7 -> 8 -> 8 -> 8 -> 7 -> 7 -> 8 -> 98 -> 6 -> 878 -> 84 -> 848 -> 5 -> 45 -> None\n"
     ]
    }
   ],
   "source": [
    "class Node:\n",
    "    def __init__(self,data):\n",
    "        self.data=data\n",
    "        self.next=None\n",
    "def inp():\n",
    "    li=[int(x) for x in input().split()]\n",
    "    head=None\n",
    "    tail=None\n",
    "    for cu in li:\n",
    "        if cu==-1:\n",
    "            break\n",
    "        newNode=Node(cu)\n",
    "        if  head is None:\n",
    "            head=newNode\n",
    "            tail=newNode\n",
    "        else:\n",
    "            tail.next=newNode\n",
    "            tail=newNode\n",
    "    return head\n",
    "def printll(head):\n",
    "    while head is not None:\n",
    "        print(head.data,\"->\",end=\" \")\n",
    "        head=head.next\n",
    "    print(None)\n",
    "def insert(head,i,num):\n",
    "    if i==0:\n",
    "        newNode=Node(num)\n",
    "        newNode.next=head\n",
    "        return newNode\n",
    "    else:\n",
    "        n1=insert(head.next,i-1,num)\n",
    "        head.next=n1\n",
    "        return head\n",
    "\n",
    "        \n",
    "head=inp()\n",
    "printll(head)\n",
    "i=int(input())\n",
    "num=int(input())\n",
    "head=insert(head,i,num)\n",
    "printll(head)"
   ]
  },
  {
   "cell_type": "code",
   "execution_count": 41,
   "metadata": {},
   "outputs": [
    {
     "name": "stdout",
     "output_type": "stream",
     "text": [
      "1 2 3 4 5 6 -1\n",
      "7\n",
      "1 2 3 4 5 6 "
     ]
    }
   ],
   "source": [
    "class Node:\n",
    "    def __init__(self, data):\n",
    "        self.data = data\n",
    "        self.next = None\n",
    "\n",
    "def delete(head, i):\n",
    "    if i<0 or i>count1(head):\n",
    "        return head\n",
    "    if i==0:\n",
    "        return head.next\n",
    "    if i==1:\n",
    "        pre=head\n",
    "        post=head.next\n",
    "        pre.next=post.next\n",
    "        return pre\n",
    "    else:\n",
    "        newn=delete(head.next,i-1)\n",
    "        head.next=newn\n",
    "        return head\n",
    "    \n",
    "def count1(head):\n",
    "    count=0\n",
    "    while head is not None:\n",
    "        count=count+1\n",
    "        head=head.next\n",
    "    return count\n",
    "def ll(arr):\n",
    "    if len(arr)==0:\n",
    "        return None\n",
    "    head = Node(arr[0])\n",
    "    last = head\n",
    "    for data in arr[1:]:\n",
    "        last.next = Node(data)\n",
    "        last = last.next\n",
    "    return head\n",
    "\n",
    "def printll(head):\n",
    "    while head:\n",
    "        print(head.data, end=' ')\n",
    "        head = head.next\n",
    "\n",
    "# Main\n",
    "# Read the link list elements including -1\n",
    "arr=list(int(i) for i in input().strip().split(' '))\n",
    "l = ll(arr[:-1])\n",
    "i=int(input())\n",
    "head=delete(l, i)\n",
    "printll(head)\n"
   ]
  },
  {
   "cell_type": "code",
   "execution_count": 1,
   "metadata": {},
   "outputs": [
    {
     "name": "stdout",
     "output_type": "stream",
     "text": [
      "1 2 3 4 5 6 7 7 -1\n",
      "7\n",
      "7 7 1 2 3 4 5 6 \n"
     ]
    }
   ],
   "source": [
    "class Node:\n",
    "    def __init__(self, data):\n",
    "        self.data = data\n",
    "        self.next = None\n",
    "\n",
    "def append_LinkedList(head,n) :\n",
    "    tail=head\n",
    "    count=0\n",
    "    while head:\n",
    "        \n",
    "        if head.data==n and count==0:\n",
    "            count+=1\n",
    "            new=None\n",
    "            new=head\n",
    "        if head.next is None:\n",
    "            head.next=tail\n",
    "            return new\n",
    "        head=head.next\n",
    "          \n",
    "    \n",
    "def ll(arr):\n",
    "    if len(arr)==0:\n",
    "        \n",
    "        return None\n",
    "    head = Node(arr[0])\n",
    "    last = head\n",
    "    for data in arr[1:]:\n",
    "        last.next = Node(data)\n",
    "        last = last.next\n",
    "    return head\n",
    "\n",
    "def printll(head):\n",
    "    temp=head\n",
    "    while head:\n",
    "        print(head.data, end=' ')\n",
    "        head=head.next\n",
    "        if head==temp:\n",
    "            break\n",
    "    print()\n",
    "\n",
    "# Main\n",
    "# Read the link list elements including -1\n",
    "arr=list(int(i) for i in input().strip().split(' '))\n",
    "# Create a Linked list after removing -1 from list\n",
    "l = ll(arr[:-1])\n",
    "i=int(input())\n",
    "l = append_LinkedList(l, i)\n",
    "printll(l)\n"
   ]
  },
  {
   "cell_type": "code",
   "execution_count": 27,
   "metadata": {},
   "outputs": [
    {
     "name": "stdout",
     "output_type": "stream",
     "text": [
      "1 2 2 3 3 4 5 5 5 6 6 6 -1\n",
      "1 2 3 4 5 6 \n"
     ]
    }
   ],
   "source": [
    "class Node:\n",
    "    def __init__(self, data):\n",
    "        self.data = data\n",
    "        self.next = None\n",
    "\n",
    "def eliminate_duplicate(head):\n",
    "    tail=head\n",
    "    compress=head\n",
    "    head=head.next\n",
    "    exp=head\n",
    "    while exp:\n",
    "        if compress.data==exp.data:\n",
    "            exp=exp.next\n",
    "        else:\n",
    "            compress.next=exp\n",
    "            compress=compress.next\n",
    "            exp=exp.next\n",
    "    compress.next=exp\n",
    "    return tail\n",
    "\n",
    "def ll(arr):\n",
    "    if len(arr)==0:\n",
    "        return None\n",
    "    head = Node(arr[0])\n",
    "    last = head\n",
    "    for data in arr[1:]:\n",
    "        last.next = Node(data)\n",
    "        last = last.next\n",
    "    return head\n",
    "\n",
    "def printll(head):\n",
    "    while head:\n",
    "        print(head.data, end=' ')\n",
    "        head = head.next\n",
    "    print()\n",
    "\n",
    "# Main\n",
    "# Read the link list elements including -1\n",
    "arr=list(int(i) for i in input().strip().split(' '))\n",
    "# Create a Linked list after removing -1 from list\n",
    "l = ll(arr[:-1])\n",
    "l = eliminate_duplicate(l)\n",
    "printll(l)\n"
   ]
  },
  {
   "cell_type": "code",
   "execution_count": 41,
   "metadata": {},
   "outputs": [
    {
     "name": "stdout",
     "output_type": "stream",
     "text": [
      "1 2 3 4 5 -1\n",
      "5 4 3 2 1 "
     ]
    }
   ],
   "source": [
    "class Node:\n",
    "    def __init__(self, data):\n",
    "        self.data = data\n",
    "        self.next = None\n",
    "\n",
    "def print_linkedlist_spl(head):\n",
    "    A=None\n",
    "    B=head\n",
    "    while B:\n",
    "        C=B.next\n",
    "        B.next=A\n",
    "        A=B\n",
    "        B=C\n",
    "    while A:\n",
    "        print(A.data,end=\" \")\n",
    "        A=A.next\n",
    "        \n",
    "        \n",
    "        \n",
    "def ll(arr):\n",
    "    if len(arr)==0:\n",
    "        return None\n",
    "    head = Node(arr[0])\n",
    "    last = head\n",
    "    for data in arr[1:]:\n",
    "        last.next = Node(data)\n",
    "        last = last.next\n",
    "    return head\n",
    "\n",
    "from sys import setrecursionlimit\n",
    "setrecursionlimit(10000)\n",
    "arr=list(int(i) for i in input().strip().split(' '))\n",
    "l = ll(arr[:-1])\n",
    "print_linkedlist_spl(l)\n"
   ]
  },
  {
   "cell_type": "markdown",
   "metadata": {},
   "source": [
    "josheph problem"
   ]
  },
  {
   "cell_type": "code",
   "execution_count": 6,
   "metadata": {},
   "outputs": [
    {
     "name": "stdout",
     "output_type": "stream",
     "text": [
      "14\n",
      "4\n",
      "[9]\n"
     ]
    }
   ],
   "source": [
    "def winner(li,k,i):\n",
    "    l=len(li)\n",
    "    if l==1: \n",
    "        return li\n",
    "    if i==l-1:\n",
    "        li=li[0:i]\n",
    "    else:\n",
    "        li=li[0:i]+li[i+1:]\n",
    "    l=l-1\n",
    "    i=i+k-1 \n",
    "    while i>=l:\n",
    "        i=i-l\n",
    "    return winner(li,k,i)\n",
    "n=int(input())\n",
    "li=[]\n",
    "p=1\n",
    "while p<=n:\n",
    "    li.append(p)\n",
    "    p=p+1\n",
    "k=int(input())\n",
    "i=k-1\n",
    "print(winner(li,k,i))"
   ]
  },
  {
   "cell_type": "code",
   "execution_count": 10,
   "metadata": {},
   "outputs": [
    {
     "name": "stdout",
     "output_type": "stream",
     "text": [
      "5 77 88 99 10 4 6 4 3 2 1 -1\n",
      "8\n",
      "5 -> 77 -> 88 -> 99 -> 10 -> 4 -> 6 -> 4 -> 3 -> 2 -> 1 -> None\n",
      "99\n"
     ]
    },
    {
     "data": {
      "text/plain": [
       "12"
      ]
     },
     "execution_count": 10,
     "metadata": {},
     "output_type": "execute_result"
    }
   ],
   "source": [
    "class Node:\n",
    "    def __init__(self,data):\n",
    "        self.data=data\n",
    "        self.next=None\n",
    "def inp():\n",
    "    li=[int(x) for x in input().split()]\n",
    "    head=None\n",
    "    tail=None\n",
    "    for cu in li:\n",
    "        if cu==-1:\n",
    "            break\n",
    "        newNode=Node(cu)\n",
    "        if  head is None:\n",
    "            head=newNode\n",
    "            tail=newNode\n",
    "        else:\n",
    "            tail.next=newNode\n",
    "            tail=newNode\n",
    "    return head\n",
    "def k1(head,k):\n",
    "    if head is None:\n",
    "        return 1\n",
    "    x=k1(head.next,k)\n",
    "    if x==k:\n",
    "        print(head.data)\n",
    "    return x+1\n",
    "def printll(head):\n",
    "    while head is not None:\n",
    "        print(head.data,\"->\",end=\" \")\n",
    "        head=head.next\n",
    "    print(None)\n",
    "def insert(head,i,num):\n",
    "    x=0\n",
    "    while x<i-1 and head.next is not None:\n",
    "        x=x+1\n",
    "        head=head.next\n",
    "    tail=head.next\n",
    "    new_num=Node(num)\n",
    "    head.next=new_num\n",
    "    head=new_num\n",
    "    head.next=tail\n",
    "\n",
    "        \n",
    "head=inp()\n",
    "# printll(head)\n",
    "i=int(input())\n",
    "num=int(input())\n",
    "insert(head,i,num)\n",
    "printll(head)\n",
    "k1(head,num)"
   ]
  },
  {
   "cell_type": "code",
   "execution_count": null,
   "metadata": {},
   "outputs": [],
   "source": []
  }
 ],
 "metadata": {
  "kernelspec": {
   "display_name": "Python 3",
   "language": "python",
   "name": "python3"
  },
  "language_info": {
   "codemirror_mode": {
    "name": "ipython",
    "version": 3
   },
   "file_extension": ".py",
   "mimetype": "text/x-python",
   "name": "python",
   "nbconvert_exporter": "python",
   "pygments_lexer": "ipython3",
   "version": "3.7.3"
  }
 },
 "nbformat": 4,
 "nbformat_minor": 2
}
