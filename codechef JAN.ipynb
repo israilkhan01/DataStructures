{
 "cells": [
  {
   "cell_type": "code",
   "execution_count": 2,
   "metadata": {},
   "outputs": [
    {
     "name": "stdout",
     "output_type": "stream",
     "text": [
      "3\n",
      "3 1 2 2\n",
      "2\n",
      "3 1 2 3\n",
      "2\n",
      "3 2 2 2\n",
      "3\n"
     ]
    }
   ],
   "source": [
    "t=int(input())\n",
    "while t>0:\n",
    "    s=[int(x) for x in input().split(' ')]\n",
    "    Strength=s[0]\n",
    "    W=s[1:]\n",
    "    l=len(W)\n",
    "    count=0\n",
    "    i=0\n",
    "    sums=0\n",
    "    while i!=l:\n",
    "        sums+=W[i]\n",
    "#         print(sums)\n",
    "        if Strength<=sums:\n",
    "            if Strength==sums:\n",
    "                sums=0\n",
    "            else:\n",
    "                sums=W[i]\n",
    "            count+=1\n",
    "        i+=1\n",
    "        1\n",
    "    if sums!=0:\n",
    "        count+=1\n",
    "    print(count)\n",
    "    count=0\n",
    "    t-=1\n",
    "                "
   ]
  },
  {
   "cell_type": "code",
   "execution_count": null,
   "metadata": {},
   "outputs": [],
   "source": []
  }
 ],
 "metadata": {
  "kernelspec": {
   "display_name": "Python 3",
   "language": "python",
   "name": "python3"
  }
 },
 "nbformat": 4,
 "nbformat_minor": 2
}
