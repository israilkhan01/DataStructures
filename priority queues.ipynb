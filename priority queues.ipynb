{
 "cells": [
  {
   "cell_type": "code",
   "execution_count": 6,
   "metadata": {},
   "outputs": [
    {
     "ename": "SyntaxError",
     "evalue": "invalid syntax (<ipython-input-6-23499bdb772b>, line 25)",
     "output_type": "error",
     "traceback": [
      "\u001b[1;36m  File \u001b[1;32m\"<ipython-input-6-23499bdb772b>\"\u001b[1;36m, line \u001b[1;32m25\u001b[0m\n\u001b[1;33m    li=[int(x),q.put(qu(i+1,x)) for x in input().split()]\u001b[0m\n\u001b[1;37m                                  ^\u001b[0m\n\u001b[1;31mSyntaxError\u001b[0m\u001b[1;31m:\u001b[0m invalid syntax\n"
     ]
    }
   ],
   "source": [
    "import heapq\n",
    "import queue\n",
    "class qu:\n",
    "    def __init__(self,value,p):\n",
    "        self.value=value\n",
    "        self.priority=p\n",
    "    \n",
    "def time_required(li,index,q):\n",
    "    myticket=qu(index,li[index])\n",
    "    count=0\n",
    "    heapq._heapify_max(li)\n",
    "    while not q.empty():\n",
    "        curr=q.get()\n",
    "        if curr.priority<li[0]:\n",
    "            q.put(curr)\n",
    "        elif curr.priority==li[0]:\n",
    "            count+=1\n",
    "            if curr.value==myticket.value:\n",
    "                return count\n",
    "            heapq._heappop_max(li)     \n",
    "                \n",
    "n=int(input())\n",
    "q=queue.Queue()\n",
    "i=-1\n",
    "li=[int(x) for x in input().split() ]\n",
    "my_priority_index=int(input())\n",
    "print(time_required(li,my_priority_index,q))"
   ]
  },
  {
   "cell_type": "code",
   "execution_count": null,
   "metadata": {},
   "outputs": [],
   "source": []
  }
 ],
 "metadata": {
  "kernelspec": {
   "display_name": "Python 3",
   "language": "python",
   "name": "python3"
  },
  "language_info": {
   "codemirror_mode": {
    "name": "ipython",
    "version": 3
   },
   "file_extension": ".py",
   "mimetype": "text/x-python",
   "name": "python",
   "nbconvert_exporter": "python",
   "pygments_lexer": "ipython3",
   "version": "3.7.3"
  }
 },
 "nbformat": 4,
 "nbformat_minor": 2
}
