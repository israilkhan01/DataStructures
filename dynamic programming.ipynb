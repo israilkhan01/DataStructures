{
 "cells": [
  {
   "cell_type": "code",
   "execution_count": 1,
   "metadata": {},
   "outputs": [
    {
     "name": "stdout",
     "output_type": "stream",
     "text": [
      "1000\n",
      "2\n"
     ]
    }
   ],
   "source": [
    "import sys,math \n",
    "sys.setrecursionlimit(10**6)\n",
    "def minsq(n,array):\n",
    "    if n==0:\n",
    "        return 0\n",
    "    i=1\n",
    "    ans=sys.maxsize\n",
    "    root=int(math.sqrt(n))\n",
    "    while i<=root:\n",
    "        ind=n-(i**2)\n",
    "        if array[ind]==-1:\n",
    "            smallans=minsq(ind,array)\n",
    "            array[ind]=smallans\n",
    "            curr=1+smallans\n",
    "        else:\n",
    "            curr=1+array[ind]\n",
    "        ans=min(ans,curr)\n",
    "        # array[n-i**2]=ans\n",
    "        i+=1\n",
    "    return ans\n",
    "n=int(input())\n",
    "array=[-1 for i in range(n+1)]\n",
    "print(minsq(n,array))"
   ]
  },
  {
   "cell_type": "code",
   "execution_count": 51,
   "metadata": {},
   "outputs": [
    {
     "name": "stdout",
     "output_type": "stream",
     "text": [
      "7\n",
      "6 3 1 2 7 0 9\n",
      "i: 0 ar[i] 6\n",
      "i: 4 ar[i] 7\n",
      "i: 6 ar[i] 9\n",
      "newans: 1 ans: 0\n",
      "i: 5 ar[i] 0\n",
      "newans: 2 ans: 2\n",
      "newans: 3 ans: 2\n",
      "i: 1 ar[i] 3\n",
      "i: 2 ar[i] 1\n",
      "i: 3 ar[i] 2\n",
      "newans: 4 ans: 2\n",
      "newans: 5 ans: 2\n",
      "newans: 6 ans: 2\n",
      "newans: 7 ans: 2\n",
      "7\n",
      "[-1, 7, 6, 5, 4, 3, 2, 1]\n"
     ]
    }
   ],
   "source": [
    "def lis(arr,i,n,dp):\n",
    "    if i==n:\n",
    "        return 0\n",
    "    new=0\n",
    "    ans=0\n",
    "    print(\"i:\",i,\"ar[i]\",arr[i])\n",
    "    for j in range (i+1,n):\n",
    "        if arr[j]>arr[i]:\n",
    "            if dp[j]!=-1:\n",
    "                ans=dp[j]\n",
    "            else:\n",
    "                ans=1+lis(arr,j,n,dp)\n",
    "                dp[j]=ans\n",
    "    if dp[i+1]!=-1:\n",
    "        newans=dp[i+1]\n",
    "    else:\n",
    "        newans=1+lis(arr,i+1,n,dp)\n",
    "        dp[i+1]=newans\n",
    "    print(\"newans:\",newans,\"ans:\",ans)\n",
    "    return max(newans,ans)\n",
    "n = int(input())\n",
    "li = [int(ele) for ele in input().split()]\n",
    "dp=[-1 for i in range(n+1)]\n",
    "print(lis(li,0,n,dp))\n",
    "print(dp)"
   ]
  },
  {
   "cell_type": "code",
   "execution_count": 16,
   "metadata": {},
   "outputs": [
    {
     "name": "stdout",
     "output_type": "stream",
     "text": [
      "2 7\n",
      "6\n"
     ]
    }
   ],
   "source": [
    "li=[int(x) for x in input().split(' ')]\n",
    "sp=li[0]\n",
    "tp=li[1]\n",
    "div=tp/sp\n",
    "if div == round(div):\n",
    "    print(((tp//sp)-1)*sp)\n",
    "else:\n",
    "    rd=div-(tp//sp)\n",
    "    if rd*sp>1:\n",
    "        steps=(tp//sp)*sp+(rd*sp-1)\n",
    "    print(steps)"
   ]
  },
  {
   "cell_type": "code",
   "execution_count": 22,
   "metadata": {},
   "outputs": [],
   "source": [
    "def sort01(arr):\n",
    "    forword=0\n",
    "    back=len(arr)-1\n",
    "    \n",
    "    for i in range(len(arr)):\n",
    "        if arr[forword]==1 and arr[back]==0:\n",
    "            temp=arr[forword]\n",
    "            arr[forword]=arr[back]\n",
    "            arr[back]=temp\n",
    "        forword+=1\n",
    "        back+=1\n",
    "    print(arr)"
   ]
  },
  {
   "cell_type": "code",
   "execution_count": 23,
   "metadata": {},
   "outputs": [
    {
     "ename": "IndexError",
     "evalue": "list index out of range",
     "output_type": "error",
     "traceback": [
      "\u001b[1;31m---------------------------------------------------------------------------\u001b[0m",
      "\u001b[1;31mIndexError\u001b[0m                                Traceback (most recent call last)",
      "\u001b[1;32m<ipython-input-23-227dc34dadcf>\u001b[0m in \u001b[0;36m<module>\u001b[1;34m\u001b[0m\n\u001b[1;32m----> 1\u001b[1;33m \u001b[0msort01\u001b[0m\u001b[1;33m(\u001b[0m\u001b[1;33m[\u001b[0m\u001b[1;36m0\u001b[0m\u001b[1;33m,\u001b[0m\u001b[1;36m1\u001b[0m\u001b[1;33m,\u001b[0m\u001b[1;36m1\u001b[0m\u001b[1;33m,\u001b[0m\u001b[1;36m0\u001b[0m\u001b[1;33m,\u001b[0m\u001b[1;36m1\u001b[0m\u001b[1;33m,\u001b[0m\u001b[1;36m0\u001b[0m\u001b[1;33m,\u001b[0m\u001b[1;36m0\u001b[0m\u001b[1;33m]\u001b[0m\u001b[1;33m)\u001b[0m\u001b[1;33m\u001b[0m\u001b[1;33m\u001b[0m\u001b[0m\n\u001b[0m",
      "\u001b[1;32m<ipython-input-22-957042f1380f>\u001b[0m in \u001b[0;36msort01\u001b[1;34m(arr)\u001b[0m\n\u001b[0;32m      4\u001b[0m \u001b[1;33m\u001b[0m\u001b[0m\n\u001b[0;32m      5\u001b[0m     \u001b[1;32mfor\u001b[0m \u001b[0mi\u001b[0m \u001b[1;32min\u001b[0m \u001b[0mrange\u001b[0m\u001b[1;33m(\u001b[0m\u001b[0mlen\u001b[0m\u001b[1;33m(\u001b[0m\u001b[0marr\u001b[0m\u001b[1;33m)\u001b[0m\u001b[1;33m)\u001b[0m\u001b[1;33m:\u001b[0m\u001b[1;33m\u001b[0m\u001b[1;33m\u001b[0m\u001b[0m\n\u001b[1;32m----> 6\u001b[1;33m         \u001b[1;32mif\u001b[0m \u001b[0marr\u001b[0m\u001b[1;33m[\u001b[0m\u001b[0mforword\u001b[0m\u001b[1;33m]\u001b[0m\u001b[1;33m==\u001b[0m\u001b[1;36m1\u001b[0m \u001b[1;32mand\u001b[0m \u001b[0marr\u001b[0m\u001b[1;33m[\u001b[0m\u001b[0mback\u001b[0m\u001b[1;33m]\u001b[0m\u001b[1;33m==\u001b[0m\u001b[1;36m0\u001b[0m\u001b[1;33m:\u001b[0m\u001b[1;33m\u001b[0m\u001b[1;33m\u001b[0m\u001b[0m\n\u001b[0m\u001b[0;32m      7\u001b[0m             \u001b[0mtemp\u001b[0m\u001b[1;33m=\u001b[0m\u001b[0marr\u001b[0m\u001b[1;33m[\u001b[0m\u001b[0mforword\u001b[0m\u001b[1;33m]\u001b[0m\u001b[1;33m\u001b[0m\u001b[1;33m\u001b[0m\u001b[0m\n\u001b[0;32m      8\u001b[0m             \u001b[0marr\u001b[0m\u001b[1;33m[\u001b[0m\u001b[0mforword\u001b[0m\u001b[1;33m]\u001b[0m\u001b[1;33m=\u001b[0m\u001b[0marr\u001b[0m\u001b[1;33m[\u001b[0m\u001b[0mback\u001b[0m\u001b[1;33m]\u001b[0m\u001b[1;33m\u001b[0m\u001b[1;33m\u001b[0m\u001b[0m\n",
      "\u001b[1;31mIndexError\u001b[0m: list index out of range"
     ]
    }
   ],
   "source": [
    "sort01([0,1,1,0,1,0,0])"
   ]
  },
  {
   "cell_type": "code",
   "execution_count": null,
   "metadata": {},
   "outputs": [],
   "source": []
  }
 ],
 "metadata": {
  "kernelspec": {
   "display_name": "Python 3",
   "language": "python",
   "name": "python3"
  },
  "language_info": {
   "codemirror_mode": {
    "name": "ipython",
    "version": 3
   },
   "file_extension": ".py",
   "mimetype": "text/x-python",
   "name": "python",
   "nbconvert_exporter": "python",
   "pygments_lexer": "ipython3",
   "version": "3.7.4"
  }
 },
 "nbformat": 4,
 "nbformat_minor": 2
}
