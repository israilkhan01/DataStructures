{
 "cells": [
  {
   "cell_type": "code",
   "execution_count": 13,
   "metadata": {},
   "outputs": [
    {
     "name": "stdout",
     "output_type": "stream",
     "text": [
      "1 3 1 4 1 63 1 21 1 9 2 3 1 7 3 4 5 -1\n",
      "9\n",
      "21\n",
      "7\n",
      "5\n",
      "false\n"
     ]
    }
   ],
   "source": [
    "\n",
    " ###Following Node class us already created internally. You can directly use that.\n",
    "class Node:\n",
    "    def __init__(self,data):\n",
    "        self.data = data\n",
    "        self.next = None\n",
    "        \n",
    "class StackUsingLL:\n",
    "    def __init__(self):\n",
    "        self.__head = None\n",
    "        self.__size = 0\n",
    "\n",
    "    def push(self,data):\n",
    "        if self.__head==None:\n",
    "            self.__head=Node(li[i+1])\n",
    "            self.__head.next=None\n",
    "            self.__size+=1\n",
    "        else:\n",
    "            newNode=Node(data)\n",
    "            newNode.next=self.__head\n",
    "            self.__head=newNode\n",
    "            self.__size=self.__size+1\n",
    "    def pop(self):\n",
    "        x=self.__head.data\n",
    "        self.__head=self.__head.next\n",
    "        self.__size=self.__size-1\n",
    "        return x\n",
    "    def top(self):\n",
    "        return self.__head.data\n",
    "    def isEmpty(self):\n",
    "        if self.__head.next==None:\n",
    "            return True\n",
    "        return False\n",
    "    def getSize(self):\n",
    "        return self.__size\n",
    "        pass\n",
    "s=StackUsingLL()    \n",
    "li=[int(x) for x in input().split()]\n",
    "i=0\n",
    "while i<len(li):\n",
    "    choice = li[i]\n",
    "    if choice == -1:\n",
    "        break\n",
    "    elif choice == 1:\n",
    "        s.push(li[i+1])\n",
    "        i+=1\n",
    "    elif choice == 2:\n",
    "        ans = s.pop()\n",
    "        if ans!=0:\n",
    "            print(ans)\n",
    "        else:\n",
    "            print(-1)\n",
    "    elif choice == 3:\n",
    "        ans = s.top()\n",
    "        if ans!=0:\n",
    "            print(ans)\n",
    "        else:\n",
    "            print(-1)\n",
    "    elif choice == 4:\n",
    "        print(s.getSize())\n",
    "    elif choice == 5:\n",
    "        if(s.isEmpty()):\n",
    "            print('true')\n",
    "        else:\n",
    "            print('false')\n",
    "    i=i+1\n",
    "\n",
    "\n",
    "\n",
    "\n",
    "\n"
   ]
  },
  {
   "cell_type": "code",
   "execution_count": 8,
   "metadata": {},
   "outputs": [
    {
     "name": "stdout",
     "output_type": "stream",
     "text": [
      "4\n",
      "1 2 3 4\n",
      "[4, 3]\n",
      "[4, 3, 2]\n",
      "[4, 3, 2, 1]\n",
      "1 2 3 4 "
     ]
    }
   ],
   "source": [
    "def reverseStack(s1,s2):\n",
    "    if len(s1)==1:\n",
    "        return s1\n",
    "    while len(s1)>1:\n",
    "        s2.append(s1[len(s1)-1])\n",
    "        s1.pop()\n",
    "    xle=s1[0]\n",
    "    s1.pop()\n",
    "    while len(s2)>0:\n",
    "        s1.append(s2[len(s2)-1])\n",
    "        s2.pop()\n",
    "    reverseStack(s1,s2)\n",
    "    s1.append(xle)\n",
    "    print(s1)\n",
    "    return s1\n",
    "    \n",
    "from sys import setrecursionlimit\n",
    "setrecursionlimit(11000)\n",
    "n = int(input())\n",
    "s1 = [int(ele) for ele in input().split()]\n",
    "s2 = []\n",
    "reverseStack(s1,s2)\n",
    "while(len(s1) !=0):\n",
    "    print(s1.pop(),end= ' ')\n",
    "\n",
    "\n",
    "\n",
    "\n"
   ]
  },
  {
   "cell_type": "code",
   "execution_count": 7,
   "metadata": {},
   "outputs": [
    {
     "name": "stdout",
     "output_type": "stream",
     "text": [
      "8\n",
      "60 70 80 100 90 75 80 120\n",
      "1 2 3 4 1 1 2 8 "
     ]
    }
   ],
   "source": [
    "def stockSpan(price,n):\n",
    "    spans=[]\n",
    "    i=0\n",
    "    while i<n:\n",
    "        count=1\n",
    "        k=i-1\n",
    "        while k>=0:\n",
    "            if price[i]>price[k]:\n",
    "                count=count+1\n",
    "            else:\n",
    "                break\n",
    "            k=k-1\n",
    "        spans.append(count)\n",
    "        i=i+1\n",
    "    return spans\n",
    "n = int(input())\n",
    "price = [int(ele) for ele in input().split()]\n",
    "spans = stockSpan(price,n)\n",
    "for ele in spans:\n",
    "    print(ele,end= ' ')\n",
    "\n",
    "\n",
    "\n",
    "\n",
    "\n",
    "\n"
   ]
  },
  {
   "cell_type": "code",
   "execution_count": 11,
   "metadata": {},
   "outputs": [
    {
     "name": "stdout",
     "output_type": "stream",
     "text": [
      "{}{}\n",
      "0\n"
     ]
    }
   ],
   "source": [
    "\n",
    "\n",
    "def countBracketReversals(string):\n",
    "    if(len(string) == 0):\n",
    "        return 0\n",
    "    if(len(string)%2 != 0):\n",
    "        return -1\n",
    "    s = []\n",
    "    for char in string:\n",
    "        if char == '{':\n",
    "            s.append(char)\n",
    "        else:\n",
    "            if(len(s) > 0 and s[-1] == '{'):\n",
    "                s.pop()\n",
    "            else:\n",
    "                s.append(char)\n",
    "    count = 0\n",
    "    while(len(s) != 0):\n",
    "        c1 = s.pop()\n",
    "        c2 = s.pop()\n",
    "        if c1!=c2:\n",
    "            count+=2\n",
    "        else:\n",
    "            count+=1\n",
    "    return count\n",
    "string = input()\n",
    "ans = countBracketReversals(string)\n",
    "print(ans)\n",
    "\n",
    "\n",
    "\n"
   ]
  },
  {
   "cell_type": "code",
   "execution_count": null,
   "metadata": {},
   "outputs": [],
   "source": []
  }
 ],
 "metadata": {
  "kernelspec": {
   "display_name": "Python 3",
   "language": "python",
   "name": "python3"
  },
  "language_info": {
   "codemirror_mode": {
    "name": "ipython",
    "version": 3
   },
   "file_extension": ".py",
   "mimetype": "text/x-python",
   "name": "python",
   "nbconvert_exporter": "python",
   "pygments_lexer": "ipython3",
   "version": "3.7.3"
  }
 },
 "nbformat": 4,
 "nbformat_minor": 2
}
