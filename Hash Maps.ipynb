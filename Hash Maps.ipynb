{
 "cells": [
  {
   "cell_type": "code",
   "execution_count": 6,
   "metadata": {},
   "outputs": [
    {
     "name": "stdout",
     "output_type": "stream",
     "text": [
      "10\n",
      "1 2 9 4 10 11 8 14 16 17\n",
      "9\n",
      "10\n",
      "11\n",
      "12\n",
      "13\n",
      "14\n"
     ]
    }
   ],
   "source": [
    "class Hash:\n",
    "    def __init__(self,key,value):\n",
    "        self.key=key\n",
    "        self.value=value\n",
    "        self.next=None\n",
    "\n",
    "def handling(index,buc_lenth):\n",
    "    return abs(index)%buc_lenth\n",
    "def insert_in_hash(l):\n",
    "    bucket_length=len(l)\n",
    "    bucket=[]\n",
    "    for i in range (bucket_length):\n",
    "        bucket.append(None)\n",
    "    for key in l:\n",
    "        hc=hash(key)\n",
    "        index=handling(hc,bucket_length)\n",
    "#         print(\"index:\",index)\n",
    "        head=bucket[index]\n",
    "        if head is not None:\n",
    "            if head.key==key:\n",
    "                return\n",
    "            head=head.next\n",
    "        head=bucket[index]\n",
    "        newNode=Hash(key,True)\n",
    "        newNode.next=head\n",
    "        bucket[index]=newNode\n",
    "    return bucket\n",
    "def searchkey(head,key):\n",
    "    while head is not None:\n",
    "        if head.key ==key:\n",
    "            head.value=False\n",
    "            return 1\n",
    "        head=head.next\n",
    "    return False\n",
    "def longestConsecutiveSubsequence(l):\n",
    "    bucket=insert_in_hash(l)\n",
    "    bucket_length=len(bucket)\n",
    "    maxcount=0\n",
    "    for ele in l:\n",
    "        count=0\n",
    "        flag=True\n",
    "        x=0\n",
    "        eleplus=ele\n",
    "        eleneg=ele\n",
    "        while flag:\n",
    "            hc=hash(eleplus)\n",
    "            index=handling(hc,bucket_length)\n",
    "            head=bucket[index]\n",
    "            ispresent=searchkey(head,eleplus)\n",
    "            x=x+ispresent\n",
    "            if ispresent==0:\n",
    "                flag=False\n",
    "                break\n",
    "            eleplus+=1\n",
    "        #count=x\n",
    "        flag = True\n",
    "        while flag:\n",
    "            hc=hash(eleneg)\n",
    "            index=handling(hc,bucket_length)\n",
    "            head=bucket[index]\n",
    "            ispresent=searchkey(head,eleneg)\n",
    "            x=x+ispresent\n",
    "            if ispresent==0:\n",
    "                flag=False\n",
    "                eleneg=eleneg-1\n",
    "                break\n",
    "            eleneg-=1\n",
    "        count=x\n",
    "        if maxcount<count:\n",
    "            maxcount=count\n",
    "            maxele=ele\n",
    "    return maxele,maxcount\n",
    "        \n",
    "n=int(input())\n",
    "l=list(int(i) for i in input().strip().split(' '))\n",
    "i,j = longestConsecutiveSubsequence(l)\n",
    "x=i\n",
    "while x<=(i+j):\n",
    "    print(x)\n",
    "    x=x+1"
   ]
  },
  {
   "cell_type": "code",
   "execution_count": 1,
   "metadata": {},
   "outputs": [
    {
     "name": "stdout",
     "output_type": "stream",
     "text": [
      "10\n",
      "8 4 0 5 6 9 10 24 20 16 20\n",
      "4\n"
     ]
    }
   ],
   "source": [
    "class Hash:\n",
    "    def __init__(self,key,value):\n",
    "        self.key=key\n",
    "        self.value=value\n",
    "        self.next=None\n",
    "\n",
    "def handling(index,buc_lenth):\n",
    "    return abs(index)%buc_lenth\n",
    "def insert_in_hash(l):\n",
    "    bucket_length=len(l)\n",
    "    bucket=[]\n",
    "    for i in range (bucket_length):\n",
    "        bucket.append(None)\n",
    "    for key in l:\n",
    "        hc=hash(key)\n",
    "        index=handling(hc,bucket_length)\n",
    "#         print(\"index:\",index)\n",
    "        head=bucket[index]\n",
    "        if head is not None:\n",
    "            if head.key==key:\n",
    "                continue\n",
    "            head=head.next\n",
    "        head=bucket[index]\n",
    "        newNode=Hash(key,True)\n",
    "        newNode.next=head\n",
    "        bucket[index]=newNode\n",
    "    return bucket,bucket_length\n",
    "def searchkey(head,key):\n",
    "    while head is not None:\n",
    "        if head.key ==key:\n",
    "            if head.value==True:\n",
    "                head.value==False\n",
    "                return True\n",
    "        head=head.next\n",
    "    return False\n",
    "def printPairDiffK(l, k):\n",
    "    bucket,bucket_length=insert_in_hash(l)\n",
    "    for ele in l:\n",
    "        hc=hash(ele)\n",
    "        index=handling(hc,bucket_length)\n",
    "        head=bucket[index]\n",
    "        left=searchkey(head,ele-k)\n",
    "        right=searchkey(head,ele+k)\n",
    "        if left==True:\n",
    "            print(ele-k,ele)\n",
    "        if right == True:\n",
    "            print(ele,ele+k)\n",
    "        \n",
    "    \n",
    "n=int(input())\n",
    "l=list(int(i) for i in input().strip().split(' '))\n",
    "k=int(input())\n",
    "printPairDiffK(l, k)"
   ]
  },
  {
   "cell_type": "code",
   "execution_count": 2,
   "metadata": {},
   "outputs": [
    {
     "name": "stdout",
     "output_type": "stream",
     "text": [
      "-100\n"
     ]
    }
   ],
   "source": [
    "ele=-100\n",
    "x=hash(ele)\n",
    "print(x)"
   ]
  },
  {
   "cell_type": "code",
   "execution_count": null,
   "metadata": {},
   "outputs": [],
   "source": []
  }
 ],
 "metadata": {
  "kernelspec": {
   "display_name": "Python 3",
   "language": "python",
   "name": "python3"
  },
  "language_info": {
   "codemirror_mode": {
    "name": "ipython",
    "version": 3
   },
   "file_extension": ".py",
   "mimetype": "text/x-python",
   "name": "python",
   "nbconvert_exporter": "python",
   "pygments_lexer": "ipython3",
   "version": "3.7.3"
  }
 },
 "nbformat": 4,
 "nbformat_minor": 2
}
