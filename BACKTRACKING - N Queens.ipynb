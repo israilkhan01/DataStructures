{
 "cells": [
  {
   "cell_type": "code",
   "execution_count": 1,
   "metadata": {},
   "outputs": [
    {
     "name": "stdout",
     "output_type": "stream",
     "text": [
      "4\n",
      "[[0, 0, 0, 0], [0, 0, 0, 0], [0, 0, 0, 0], [0, 0, 0, 0]]\n"
     ]
    }
   ],
   "source": [
    "\n",
    "    \n",
    "def nQueen(n,xp,li):\n",
    "    for i in range (n):\n",
    "        for j in range(n):\n",
    "            if j not in xp:\n",
    "                for t in xp:\n",
    "                    if li[i-1][t+1]!=1 and li[i-1][t-1]!=1 and t>0:\n",
    "                        pass\n",
    "                    \n",
    "                    else:\n",
    "                        pass\n",
    "                xp.append(j)\n",
    "    print(*li)\n",
    "    \n",
    "n = int(input())\n",
    "li=[[0 for i in range(n)] for i in range(n)]\n",
    "print(li)\n",
    "nQueen(n,[],li)\n",
    "\n"
   ]
  },
  {
   "cell_type": "code",
   "execution_count": 3,
   "metadata": {},
   "outputs": [
    {
     "name": "stdout",
     "output_type": "stream",
     "text": [
      "9\n"
     ]
    }
   ],
   "source": [
    "i=9\n",
    "if i not in [2,3,4]:\n",
    "    print(i)"
   ]
  }
 ],
 "metadata": {
  "kernelspec": {
   "display_name": "Python 3",
   "language": "python",
   "name": "python3"
  },
  "language_info": {
   "codemirror_mode": {
    "name": "ipython",
    "version": 3
   },
   "file_extension": ".py",
   "mimetype": "text/x-python",
   "name": "python",
   "nbconvert_exporter": "python",
   "pygments_lexer": "ipython3",
   "version": "3.7.3"
  }
 },
 "nbformat": 4,
 "nbformat_minor": 2
}
