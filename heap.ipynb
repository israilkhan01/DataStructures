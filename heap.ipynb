{
 "cells": [
  {
   "cell_type": "code",
   "execution_count": 9,
   "metadata": {},
   "outputs": [
    {
     "name": "stdout",
     "output_type": "stream",
     "text": [
      "2400057964488 2400057964552 140715583837056 140715583837024\n",
      "x: [10, 7, 2, 3, 1, 9, 8, 11]\n",
      "y: [11, 10, 9, 7, 1, 2, 8, 3]\n",
      "false\n"
     ]
    }
   ],
   "source": [
    "import heapq\n",
    "def checkMaxHeap(lst):\n",
    "    x=lst[:]\n",
    "    a=2\n",
    "    b=2\n",
    "    a=3\n",
    "    print(id(lst),id(x),id(a),id(b))\n",
    "    heapq._heapify_max(x)\n",
    "    print(\"x:\",lst)\n",
    "    print(\"y:\",x)\n",
    "    for i in range(len(lst)):\n",
    "        if lst[i]!=x[i]:\n",
    "            return False\n",
    "    else:\n",
    "        return True\n",
    "# n=int(input())\n",
    "lst=[10,7,2,3,1,9,8,11]\n",
    "print('true') if checkMaxHeap(lst) else print('false')\n"
   ]
  },
  {
   "cell_type": "code",
   "execution_count": null,
   "metadata": {},
   "outputs": [],
   "source": [
    "import heapq\n",
    "def time_required(li,index):\n",
    "    \n",
    "n=int(input())\n",
    "li=[int(x) for x in input().split()]\n",
    "my_priority_index=int(input())\n",
    "print(time_required(li,my_priority_index))"
   ]
  }
 ],
 "metadata": {
  "kernelspec": {
   "display_name": "Python 3",
   "language": "python",
   "name": "python3"
  },
  "language_info": {
   "codemirror_mode": {
    "name": "ipython",
    "version": 3
   },
   "file_extension": ".py",
   "mimetype": "text/x-python",
   "name": "python",
   "nbconvert_exporter": "python",
   "pygments_lexer": "ipython3",
   "version": "3.7.3"
  }
 },
 "nbformat": 4,
 "nbformat_minor": 2
}
