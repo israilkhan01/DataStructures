{
 "cells": [
  {
   "cell_type": "code",
   "execution_count": 2,
   "metadata": {},
   "outputs": [
    {
     "ename": "SyntaxError",
     "evalue": "invalid syntax (<ipython-input-2-d968c57e440d>, line 15)",
     "output_type": "error",
     "traceback": [
      "\u001b[1;36m  File \u001b[1;32m\"<ipython-input-2-d968c57e440d>\"\u001b[1;36m, line \u001b[1;32m15\u001b[0m\n\u001b[1;33m    ans=subsequences(s,li,l-2)\u001b[0m\n\u001b[1;37m      ^\u001b[0m\n\u001b[1;31mSyntaxError\u001b[0m\u001b[1;31m:\u001b[0m invalid syntax\n"
     ]
    }
   ],
   "source": [
    "\n",
    "\n",
    "def subsequences(s,li,l):\n",
    "    if l<=0:\n",
    "        return li\n",
    "    for k in li:\n",
    "        li.append(\"s[l]\"+k)\n",
    "    return subsequences(s,li,l-1)\n",
    "\n",
    "\n",
    "s = input()\n",
    "l=len(s)\n",
    "print(l)\n",
    "li=[\"\",s[l-1],s[l-2]\n",
    "ans=subsequences(s,li,l-2)\n",
    "for i in ans:\n",
    "    print(i)\n",
    "\n",
    "\n",
    "\n",
    "\n"
   ]
  },
  {
   "cell_type": "code",
   "execution_count": null,
   "metadata": {},
   "outputs": [],
   "source": [
    "s = input()\n",
    "l=len(s)\n",
    "print(l)\n",
    "li=[\"\", s[l-1] , s[l-2] , s[l-2:] ]\n",
    "li"
   ]
  },
  {
   "cell_type": "code",
   "execution_count": null,
   "metadata": {},
   "outputs": [],
   "source": [
    "li=[0]\n",
    "li.append([1,2])\n",
    "li.append([[1,2],3])\n",
    "li"
   ]
  },
  {
   "cell_type": "code",
   "execution_count": null,
   "metadata": {},
   "outputs": [],
   "source": [
    "def R(li,k):\n",
    "    if len(li)==0:\n",
    "        sum1=[]\n",
    "        sum1.append(0)\n",
    "        out=[]\n",
    "        out.append(\"\")\n",
    "        return out,sum1\n",
    "    lx=li[1:]\n",
    "    out,sum1=R(lx,k)\n",
    "    op=[]\n",
    "    sumw=[]\n",
    "    lo=len(out)\n",
    "    for i in range(lo):\n",
    "        op.append(out[i])\n",
    "        sumw.append(sum1[i])\n",
    "    for i in range(lo):\n",
    "        op.append(str(li[0])+\" \"+out[i])\n",
    "        sumw.append(li[0]+sum1[i])\n",
    "    return op,sumw\n",
    "n=int(input())\n",
    "li=[int(x) for x in input().split()]\n",
    "k=int(input())\n",
    "ans,sum1=R(li,k)\n",
    "l=len(ans)\n",
    "for i in range(l):\n",
    "    if sum1[i]==k:\n",
    "        print(ans[i])"
   ]
  },
  {
   "cell_type": "code",
   "execution_count": null,
   "metadata": {},
   "outputs": [],
   "source": [
    "import sys\n",
    "sys.setrecursionlimit(10000)\n",
    "def R(li):\n",
    "    if len(li)==0:\n",
    "        out=[]\n",
    "        out.append(\"\")\n",
    "        return out\n",
    "    lx=li[1:]\n",
    "    out=R(lx)\n",
    "    op=[]\n",
    "    for i in out:\n",
    "        op.append(i)\n",
    "    for i in out:\n",
    "        op.append(str(li[0])+\" \"+i)\n",
    "        print((str(li[0])+\" \"+i)[:-1])\n",
    "    return op\n",
    "n=int(input())\n",
    "li=[int(x) for x in input().split()]\n",
    "ans=R(li)"
   ]
  },
  {
   "cell_type": "code",
   "execution_count": null,
   "metadata": {},
   "outputs": [],
   "source": []
  }
 ],
 "metadata": {
  "kernelspec": {
   "display_name": "Python 3",
   "language": "python",
   "name": "python3"
  },
  "language_info": {
   "codemirror_mode": {
    "name": "ipython",
    "version": 3
   },
   "file_extension": ".py",
   "mimetype": "text/x-python",
   "name": "python",
   "nbconvert_exporter": "python",
   "pygments_lexer": "ipython3",
   "version": "3.7.3"
  }
 },
 "nbformat": 4,
 "nbformat_minor": 2
}
